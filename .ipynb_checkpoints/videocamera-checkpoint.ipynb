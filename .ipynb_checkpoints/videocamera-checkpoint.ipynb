{
 "cells": [
  {
   "cell_type": "code",
   "execution_count": null,
   "metadata": {},
   "outputs": [],
   "source": [
    "from keras.models import load_model\n",
    "import keras\n",
    "import cv2\n",
    "import numpy as np\n",
    "import tkinter\n",
    "from tkinter import messagebox\n",
    "import smtplib\n",
    "\n",
    "\n",
    "root = tkinter.Tk()\n",
    "root.withdraw()\n",
    "\n",
    "#load model \n",
    "model = keras.models.load_model('face_mask_detection_alert_system.h5')\n",
    "\n",
    "\n",
    "#classifier to detect faces, detect face in the frame human face\n",
    "face_det_classifier = cv2.CascadeClassifier(cv2.data.haarcascades + 'haarcascade_frontalface_default.xml')\n",
    "#capture video\n",
    "vid_source = cv2.VideoCapture(0)\n",
    "# 0 and 1 are the keys\n",
    "# sinon red \n",
    "text_dict= {0:'Mask On',1: 'No Mask'}\n",
    "rect_color_dict= {0:(0,255,0),1:(0,0,255)}\n",
    "\n",
    "\n",
    "while(True):\n",
    "    ret,img = vid_source.read()\n",
    "    #convert image to grayscale \n",
    "    grayscale_img = cv2.cvtColor(img,cv2.COLOR_BGR2GRAY)\n",
    "    faces= face_det_classifier.detectMultiScale(grayscale_img,1.3,5)\n",
    "  \n",
    "    for(x,y,w,h) in faces:\n",
    "        \n",
    "        face_img= grayscale_img[y:y+w,x:x+w]\n",
    "        resized_img = cv2.resize(face_img,(112,112))\n",
    "   \n",
    "        normalized_img = resized_img/255.0\n",
    "        reshaped_img = np.reshape(normalized_img,(1,112,112,1))\n",
    "       \n",
    "        result = model.predict(reshaped_img)\n",
    "        label=np.argmax(result,axis=1)[0]\n",
    "        \n",
    "      \n",
    "        \n",
    "        cv2.rectangle(img,(x,y),(x+w,y+h),rect_color_dict[label],2)\n",
    "        cv2.rectangle(img,(x,y-40),(x+w,y),rect_color_dict[label],-1)\n",
    "        cv2.putText(img,text_dict[label],(x,y-10),cv2.FONT_HERSHEY_SIMPLEX,0.8,(0,0,0),2)\n",
    "        \n",
    "        if(label == 1):\n",
    "            print(\"You're not wearning a mask\")\n",
    "        else:\n",
    "            print(\"Great you're wearnig a mask\")\n",
    "    cv2.imshow('Live video feed',img)\n",
    "    key=cv2.waitKey(1)\n",
    "          \n",
    "cv2.destroyAllWindows()\n",
    "source.release()"
   ]
  },
  {
   "cell_type": "code",
   "execution_count": null,
   "metadata": {},
   "outputs": [],
   "source": []
  }
 ],
 "metadata": {
  "kernelspec": {
   "display_name": "Python 3",
   "language": "python",
   "name": "python3"
  },
  "language_info": {
   "codemirror_mode": {
    "name": "ipython",
    "version": 3
   },
   "file_extension": ".py",
   "mimetype": "text/x-python",
   "name": "python",
   "nbconvert_exporter": "python",
   "pygments_lexer": "ipython3",
   "version": "3.8.3"
  }
 },
 "nbformat": 4,
 "nbformat_minor": 4
}
